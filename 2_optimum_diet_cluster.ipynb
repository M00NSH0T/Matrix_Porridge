{
 "cells": [
  {
   "cell_type": "markdown",
   "metadata": {},
   "source": [
    "# Matrix Porridge\n",
    "by Kyle Archie, M.Eng\n",
    "\n",
    "This work builds upon the first notebook in this repository. Please read through that one for background and explanation of the data / process.\n",
    "\n",
    "## Notebook 2: Filtering our Input Data via Clustering\n",
    "\n",
    "In this notebook, we'll be using the DBSCAN clustering algorithm to trim our list of potential ingredients down. In the last notebook, we got a solution, but many of the ingredients were similar to one another. By using clustering, we can select just one ingredient from clusters of many similar ones. And the reason for using DBSCAN over k-means clustering for this is that DBSCAN also automatically flags outliers, which we will will want to include here. If we were building a classifier or something like that, we might be using those outlier flags to filter out undesireable data, but here, if something's an outlier, it means there are no other ingredients quite like it, and those unique ingredients should absolutely be included. Futher, k-means analysis requires we pick a \"k\" (i.e. number of clusters). We can use the elbow technique to iteratively find the optimal value of k, but this will likely leave those outliers out of the final set, since the lower our k value, the more our outliers get thrown into general buckets. DBSCAN is just an obvious choice in this application.\n",
    "\n",
    "We will use the elbow technique to tune our epsilon value. Once we have our final list of clusters, we'll pick one sample per cluster, plus all outliers, and that will become our final ingredients list, which we'll then run through the same optimization algorithm as last time."
   ]
  },
  {
   "cell_type": "code",
   "execution_count": 1,
   "metadata": {},
   "outputs": [],
   "source": [
    "import pandas as pd\n",
    "\n",
    "ingredients = pd.read_excel(\"Matrix Porridge (filtered).xlsx\", \"core ingredients\")\n",
    "ingredients['Sodium']=ingredients['Sodium']/1000 #values are in mg... convert to g\n",
    "ingredients.set_index('Shrt_Desc',inplace=True)\n",
    "ingredients=ingredients[['Energ_Kcal','Protein','Carbohydrt','Fiber_TD','Sugar_Tot','Lipid_Tot','FA_Sat','FA_Poly','Sodium']].dropna()"
   ]
  },
  {
   "cell_type": "markdown",
   "metadata": {},
   "source": [
    "Reference used: https://towardsdatascience.com/k-means-vs-dbscan-clustering-49f8e627de27"
   ]
  },
  {
   "cell_type": "code",
   "execution_count": 2,
   "metadata": {},
   "outputs": [],
   "source": [
    "from sklearn import metrics\n",
    "from sklearn.cluster import DBSCAN\n",
    "import matplotlib.pyplot as plt\n",
    "import numpy as np"
   ]
  },
  {
   "cell_type": "code",
   "execution_count": 3,
   "metadata": {},
   "outputs": [],
   "source": [
    "ingredients_dbscan = DBSCAN(eps=0.5, min_samples=2)\n",
    "ingredients_dbscan.fit(ingredients.values)\n",
    "labels = ingredients_dbscan.labels_\n",
    "\n",
    "# Creating a numpy array with all values set to false by default\n",
    "samples_mask = np.zeros_like(labels, dtype=bool)\n",
    "# add outliers\n",
    "samples_mask[labels==-1] = True\n",
    "\n",
    "#add outliers to our final dataset\n",
    "final_ingredients_df=ingredients[samples_mask]"
   ]
  },
  {
   "cell_type": "code",
   "execution_count": 4,
   "metadata": {},
   "outputs": [],
   "source": [
    "# Finding the number of clusters in labels (ignoring noise if present)\n",
    "n_clusters = len(set(labels)) - (1 if -1 in labels else 0)\n",
    "for i in range(n_clusters):\n",
    "    sample=ingredients[labels==i].sample(1)\n",
    "    final_ingredients_df=final_ingredients_df.append(sample)\n"
   ]
  },
  {
   "cell_type": "code",
   "execution_count": 5,
   "metadata": {},
   "outputs": [
    {
     "data": {
      "text/html": [
       "<div>\n",
       "<style scoped>\n",
       "    .dataframe tbody tr th:only-of-type {\n",
       "        vertical-align: middle;\n",
       "    }\n",
       "\n",
       "    .dataframe tbody tr th {\n",
       "        vertical-align: top;\n",
       "    }\n",
       "\n",
       "    .dataframe thead th {\n",
       "        text-align: right;\n",
       "    }\n",
       "</style>\n",
       "<table border=\"1\" class=\"dataframe\">\n",
       "  <thead>\n",
       "    <tr style=\"text-align: right;\">\n",
       "      <th>Shrt_Desc</th>\n",
       "      <th>BUTTER,WITH SALT</th>\n",
       "      <th>BUTTER,WHIPPED,WITH SALT</th>\n",
       "      <th>BUTTER OIL,ANHYDROUS</th>\n",
       "      <th>CHEESE,BLUE</th>\n",
       "      <th>CHEESE,BRICK</th>\n",
       "      <th>CHEESE,BRIE</th>\n",
       "      <th>CHEESE,CAMEMBERT</th>\n",
       "      <th>CHEESE,CHEDDAR</th>\n",
       "      <th>CHEESE,COLBY</th>\n",
       "      <th>CHEESE,COTTAGE,CRMD,LRG OR SML CURD</th>\n",
       "      <th>...</th>\n",
       "      <th>WHEAT FLR,WHITE,BREAD,ENR</th>\n",
       "      <th>MACARONI,DRY,ENR</th>\n",
       "      <th>MACARONI,COOKED,ENRICHED</th>\n",
       "      <th>NOODLES,EGG,DRY,ENRICHED</th>\n",
       "      <th>NOODLES,EGG,CKD,UNENR,WO/ SALT</th>\n",
       "      <th>SPAGHETTI,CKD,UNENR,W/ SALT</th>\n",
       "      <th>WHEAT FLR,WHITE (INDUSTRIAL),10% PROT,UNBLEACHED,ENR</th>\n",
       "      <th>WHEAT FLR,WHITE (INDUSTRIAL),11.5% PROT,UNBLEACHED,ENR</th>\n",
       "      <th>WHEAT FLR,WHITE (INDUSTRIAL),13% PROT,BLEACHED,UNENR</th>\n",
       "      <th>WHEAT FLR,WHITE (INDUSTRIAL),15% PROT,BLEACHED,ENR</th>\n",
       "    </tr>\n",
       "  </thead>\n",
       "  <tbody>\n",
       "    <tr>\n",
       "      <th>Energ_Kcal</th>\n",
       "      <td>717.000</td>\n",
       "      <td>717.000</td>\n",
       "      <td>876.000</td>\n",
       "      <td>353.000</td>\n",
       "      <td>371.000</td>\n",
       "      <td>334.000</td>\n",
       "      <td>300.000</td>\n",
       "      <td>403.000</td>\n",
       "      <td>394.000</td>\n",
       "      <td>98.000</td>\n",
       "      <td>...</td>\n",
       "      <td>361.000</td>\n",
       "      <td>371.000</td>\n",
       "      <td>158.000</td>\n",
       "      <td>384.000</td>\n",
       "      <td>138.000</td>\n",
       "      <td>157.000</td>\n",
       "      <td>366.000</td>\n",
       "      <td>363.000</td>\n",
       "      <td>362.000</td>\n",
       "      <td>362.000</td>\n",
       "    </tr>\n",
       "    <tr>\n",
       "      <th>Protein</th>\n",
       "      <td>0.850</td>\n",
       "      <td>0.850</td>\n",
       "      <td>0.280</td>\n",
       "      <td>21.400</td>\n",
       "      <td>23.240</td>\n",
       "      <td>20.750</td>\n",
       "      <td>19.800</td>\n",
       "      <td>24.900</td>\n",
       "      <td>23.760</td>\n",
       "      <td>11.120</td>\n",
       "      <td>...</td>\n",
       "      <td>11.980</td>\n",
       "      <td>13.040</td>\n",
       "      <td>5.800</td>\n",
       "      <td>14.160</td>\n",
       "      <td>4.540</td>\n",
       "      <td>5.800</td>\n",
       "      <td>9.710</td>\n",
       "      <td>11.500</td>\n",
       "      <td>13.070</td>\n",
       "      <td>15.330</td>\n",
       "    </tr>\n",
       "    <tr>\n",
       "      <th>Carbohydrt</th>\n",
       "      <td>0.060</td>\n",
       "      <td>0.060</td>\n",
       "      <td>0.000</td>\n",
       "      <td>2.340</td>\n",
       "      <td>2.790</td>\n",
       "      <td>0.450</td>\n",
       "      <td>0.460</td>\n",
       "      <td>1.280</td>\n",
       "      <td>2.570</td>\n",
       "      <td>3.380</td>\n",
       "      <td>...</td>\n",
       "      <td>72.530</td>\n",
       "      <td>74.670</td>\n",
       "      <td>30.860</td>\n",
       "      <td>71.270</td>\n",
       "      <td>25.160</td>\n",
       "      <td>30.590</td>\n",
       "      <td>76.220</td>\n",
       "      <td>73.810</td>\n",
       "      <td>72.200</td>\n",
       "      <td>69.880</td>\n",
       "    </tr>\n",
       "    <tr>\n",
       "      <th>Fiber_TD</th>\n",
       "      <td>0.000</td>\n",
       "      <td>0.000</td>\n",
       "      <td>0.000</td>\n",
       "      <td>0.000</td>\n",
       "      <td>0.000</td>\n",
       "      <td>0.000</td>\n",
       "      <td>0.000</td>\n",
       "      <td>0.000</td>\n",
       "      <td>0.000</td>\n",
       "      <td>0.000</td>\n",
       "      <td>...</td>\n",
       "      <td>2.400</td>\n",
       "      <td>3.200</td>\n",
       "      <td>1.800</td>\n",
       "      <td>3.300</td>\n",
       "      <td>1.200</td>\n",
       "      <td>1.800</td>\n",
       "      <td>2.400</td>\n",
       "      <td>2.400</td>\n",
       "      <td>2.400</td>\n",
       "      <td>2.400</td>\n",
       "    </tr>\n",
       "    <tr>\n",
       "      <th>Sugar_Tot</th>\n",
       "      <td>0.060</td>\n",
       "      <td>0.060</td>\n",
       "      <td>0.000</td>\n",
       "      <td>0.500</td>\n",
       "      <td>0.510</td>\n",
       "      <td>0.450</td>\n",
       "      <td>0.460</td>\n",
       "      <td>0.520</td>\n",
       "      <td>0.520</td>\n",
       "      <td>2.670</td>\n",
       "      <td>...</td>\n",
       "      <td>0.310</td>\n",
       "      <td>2.670</td>\n",
       "      <td>0.560</td>\n",
       "      <td>1.880</td>\n",
       "      <td>0.400</td>\n",
       "      <td>0.560</td>\n",
       "      <td>0.490</td>\n",
       "      <td>1.120</td>\n",
       "      <td>1.100</td>\n",
       "      <td>0.920</td>\n",
       "    </tr>\n",
       "    <tr>\n",
       "      <th>Lipid_Tot</th>\n",
       "      <td>81.110</td>\n",
       "      <td>81.110</td>\n",
       "      <td>99.480</td>\n",
       "      <td>28.740</td>\n",
       "      <td>29.680</td>\n",
       "      <td>27.680</td>\n",
       "      <td>24.260</td>\n",
       "      <td>33.140</td>\n",
       "      <td>32.110</td>\n",
       "      <td>4.300</td>\n",
       "      <td>...</td>\n",
       "      <td>1.660</td>\n",
       "      <td>1.510</td>\n",
       "      <td>0.930</td>\n",
       "      <td>4.440</td>\n",
       "      <td>2.070</td>\n",
       "      <td>0.930</td>\n",
       "      <td>1.480</td>\n",
       "      <td>1.450</td>\n",
       "      <td>1.380</td>\n",
       "      <td>1.410</td>\n",
       "    </tr>\n",
       "    <tr>\n",
       "      <th>FA_Sat</th>\n",
       "      <td>51.368</td>\n",
       "      <td>50.489</td>\n",
       "      <td>61.924</td>\n",
       "      <td>18.669</td>\n",
       "      <td>18.764</td>\n",
       "      <td>17.410</td>\n",
       "      <td>15.259</td>\n",
       "      <td>21.092</td>\n",
       "      <td>20.218</td>\n",
       "      <td>1.718</td>\n",
       "      <td>...</td>\n",
       "      <td>0.244</td>\n",
       "      <td>0.277</td>\n",
       "      <td>0.176</td>\n",
       "      <td>1.180</td>\n",
       "      <td>0.419</td>\n",
       "      <td>0.176</td>\n",
       "      <td>0.302</td>\n",
       "      <td>0.268</td>\n",
       "      <td>0.189</td>\n",
       "      <td>0.272</td>\n",
       "    </tr>\n",
       "    <tr>\n",
       "      <th>FA_Poly</th>\n",
       "      <td>3.043</td>\n",
       "      <td>3.012</td>\n",
       "      <td>3.694</td>\n",
       "      <td>0.800</td>\n",
       "      <td>0.784</td>\n",
       "      <td>0.826</td>\n",
       "      <td>0.724</td>\n",
       "      <td>0.942</td>\n",
       "      <td>0.953</td>\n",
       "      <td>0.123</td>\n",
       "      <td>...</td>\n",
       "      <td>0.727</td>\n",
       "      <td>0.564</td>\n",
       "      <td>0.319</td>\n",
       "      <td>1.331</td>\n",
       "      <td>0.552</td>\n",
       "      <td>0.319</td>\n",
       "      <td>0.845</td>\n",
       "      <td>0.749</td>\n",
       "      <td>0.683</td>\n",
       "      <td>0.712</td>\n",
       "    </tr>\n",
       "    <tr>\n",
       "      <th>Sodium</th>\n",
       "      <td>0.576</td>\n",
       "      <td>0.827</td>\n",
       "      <td>0.002</td>\n",
       "      <td>1.395</td>\n",
       "      <td>0.560</td>\n",
       "      <td>0.629</td>\n",
       "      <td>0.842</td>\n",
       "      <td>0.621</td>\n",
       "      <td>0.604</td>\n",
       "      <td>0.364</td>\n",
       "      <td>...</td>\n",
       "      <td>0.002</td>\n",
       "      <td>0.006</td>\n",
       "      <td>0.001</td>\n",
       "      <td>0.021</td>\n",
       "      <td>0.005</td>\n",
       "      <td>0.131</td>\n",
       "      <td>0.002</td>\n",
       "      <td>0.002</td>\n",
       "      <td>0.002</td>\n",
       "      <td>0.002</td>\n",
       "    </tr>\n",
       "  </tbody>\n",
       "</table>\n",
       "<p>9 rows × 1252 columns</p>\n",
       "</div>"
      ],
      "text/plain": [
       "Shrt_Desc   BUTTER,WITH SALT  BUTTER,WHIPPED,WITH SALT  BUTTER OIL,ANHYDROUS  \\\n",
       "Energ_Kcal           717.000                   717.000               876.000   \n",
       "Protein                0.850                     0.850                 0.280   \n",
       "Carbohydrt             0.060                     0.060                 0.000   \n",
       "Fiber_TD               0.000                     0.000                 0.000   \n",
       "Sugar_Tot              0.060                     0.060                 0.000   \n",
       "Lipid_Tot             81.110                    81.110                99.480   \n",
       "FA_Sat                51.368                    50.489                61.924   \n",
       "FA_Poly                3.043                     3.012                 3.694   \n",
       "Sodium                 0.576                     0.827                 0.002   \n",
       "\n",
       "Shrt_Desc   CHEESE,BLUE  CHEESE,BRICK  CHEESE,BRIE  CHEESE,CAMEMBERT  \\\n",
       "Energ_Kcal      353.000       371.000      334.000           300.000   \n",
       "Protein          21.400        23.240       20.750            19.800   \n",
       "Carbohydrt        2.340         2.790        0.450             0.460   \n",
       "Fiber_TD          0.000         0.000        0.000             0.000   \n",
       "Sugar_Tot         0.500         0.510        0.450             0.460   \n",
       "Lipid_Tot        28.740        29.680       27.680            24.260   \n",
       "FA_Sat           18.669        18.764       17.410            15.259   \n",
       "FA_Poly           0.800         0.784        0.826             0.724   \n",
       "Sodium            1.395         0.560        0.629             0.842   \n",
       "\n",
       "Shrt_Desc   CHEESE,CHEDDAR  CHEESE,COLBY  CHEESE,COTTAGE,CRMD,LRG OR SML CURD  \\\n",
       "Energ_Kcal         403.000       394.000                               98.000   \n",
       "Protein             24.900        23.760                               11.120   \n",
       "Carbohydrt           1.280         2.570                                3.380   \n",
       "Fiber_TD             0.000         0.000                                0.000   \n",
       "Sugar_Tot            0.520         0.520                                2.670   \n",
       "Lipid_Tot           33.140        32.110                                4.300   \n",
       "FA_Sat              21.092        20.218                                1.718   \n",
       "FA_Poly              0.942         0.953                                0.123   \n",
       "Sodium               0.621         0.604                                0.364   \n",
       "\n",
       "Shrt_Desc   ...  WHEAT FLR,WHITE,BREAD,ENR  MACARONI,DRY,ENR  \\\n",
       "Energ_Kcal  ...                    361.000           371.000   \n",
       "Protein     ...                     11.980            13.040   \n",
       "Carbohydrt  ...                     72.530            74.670   \n",
       "Fiber_TD    ...                      2.400             3.200   \n",
       "Sugar_Tot   ...                      0.310             2.670   \n",
       "Lipid_Tot   ...                      1.660             1.510   \n",
       "FA_Sat      ...                      0.244             0.277   \n",
       "FA_Poly     ...                      0.727             0.564   \n",
       "Sodium      ...                      0.002             0.006   \n",
       "\n",
       "Shrt_Desc   MACARONI,COOKED,ENRICHED  NOODLES,EGG,DRY,ENRICHED  \\\n",
       "Energ_Kcal                   158.000                   384.000   \n",
       "Protein                        5.800                    14.160   \n",
       "Carbohydrt                    30.860                    71.270   \n",
       "Fiber_TD                       1.800                     3.300   \n",
       "Sugar_Tot                      0.560                     1.880   \n",
       "Lipid_Tot                      0.930                     4.440   \n",
       "FA_Sat                         0.176                     1.180   \n",
       "FA_Poly                        0.319                     1.331   \n",
       "Sodium                         0.001                     0.021   \n",
       "\n",
       "Shrt_Desc   NOODLES,EGG,CKD,UNENR,WO/ SALT  SPAGHETTI,CKD,UNENR,W/ SALT  \\\n",
       "Energ_Kcal                         138.000                      157.000   \n",
       "Protein                              4.540                        5.800   \n",
       "Carbohydrt                          25.160                       30.590   \n",
       "Fiber_TD                             1.200                        1.800   \n",
       "Sugar_Tot                            0.400                        0.560   \n",
       "Lipid_Tot                            2.070                        0.930   \n",
       "FA_Sat                               0.419                        0.176   \n",
       "FA_Poly                              0.552                        0.319   \n",
       "Sodium                               0.005                        0.131   \n",
       "\n",
       "Shrt_Desc   WHEAT FLR,WHITE (INDUSTRIAL),10% PROT,UNBLEACHED,ENR  \\\n",
       "Energ_Kcal                                            366.000      \n",
       "Protein                                                 9.710      \n",
       "Carbohydrt                                             76.220      \n",
       "Fiber_TD                                                2.400      \n",
       "Sugar_Tot                                               0.490      \n",
       "Lipid_Tot                                               1.480      \n",
       "FA_Sat                                                  0.302      \n",
       "FA_Poly                                                 0.845      \n",
       "Sodium                                                  0.002      \n",
       "\n",
       "Shrt_Desc   WHEAT FLR,WHITE (INDUSTRIAL),11.5% PROT,UNBLEACHED,ENR  \\\n",
       "Energ_Kcal                                            363.000        \n",
       "Protein                                                11.500        \n",
       "Carbohydrt                                             73.810        \n",
       "Fiber_TD                                                2.400        \n",
       "Sugar_Tot                                               1.120        \n",
       "Lipid_Tot                                               1.450        \n",
       "FA_Sat                                                  0.268        \n",
       "FA_Poly                                                 0.749        \n",
       "Sodium                                                  0.002        \n",
       "\n",
       "Shrt_Desc   WHEAT FLR,WHITE (INDUSTRIAL),13% PROT,BLEACHED,UNENR  \\\n",
       "Energ_Kcal                                            362.000      \n",
       "Protein                                                13.070      \n",
       "Carbohydrt                                             72.200      \n",
       "Fiber_TD                                                2.400      \n",
       "Sugar_Tot                                               1.100      \n",
       "Lipid_Tot                                               1.380      \n",
       "FA_Sat                                                  0.189      \n",
       "FA_Poly                                                 0.683      \n",
       "Sodium                                                  0.002      \n",
       "\n",
       "Shrt_Desc   WHEAT FLR,WHITE (INDUSTRIAL),15% PROT,BLEACHED,ENR  \n",
       "Energ_Kcal                                            362.000   \n",
       "Protein                                                15.330   \n",
       "Carbohydrt                                             69.880   \n",
       "Fiber_TD                                                2.400   \n",
       "Sugar_Tot                                               0.920   \n",
       "Lipid_Tot                                               1.410   \n",
       "FA_Sat                                                  0.272   \n",
       "FA_Poly                                                 0.712   \n",
       "Sodium                                                  0.002   \n",
       "\n",
       "[9 rows x 1252 columns]"
      ]
     },
     "execution_count": 5,
     "metadata": {},
     "output_type": "execute_result"
    }
   ],
   "source": [
    "inputs=final_ingredients_df.T\n",
    "# inputs.columns=ingredients['Shrt_Desc']\n",
    "# inputs.dropna(inplace=True,axis=1) #some of these ingredients have null values. Remove those. \n",
    "inputs.fillna(0,inplace=True)\n",
    "inputs.head(10)"
   ]
  },
  {
   "cell_type": "code",
   "execution_count": 6,
   "metadata": {},
   "outputs": [
    {
     "name": "stdout",
     "output_type": "stream",
     "text": [
      "Index(['Energ_Kcal', 'Protein', 'Carbohydrt', 'Fiber_TD', 'Sugar_Tot',\n",
      "       'Lipid_Tot', 'FA_Sat', 'FA_Poly', 'Sodium'],\n",
      "      dtype='object')\n"
     ]
    }
   ],
   "source": [
    "print(ingredients.columns)"
   ]
  },
  {
   "cell_type": "code",
   "execution_count": 7,
   "metadata": {},
   "outputs": [
    {
     "name": "stdout",
     "output_type": "stream",
     "text": [
      "                                          Unnamed: 0    min (g)     max (g)\n",
      "0                                                Fat  14.814815   25.925926\n",
      "1   n-6 polyunsaturated fatty acidsa (linoleic acid)   3.703704    7.407407\n",
      "2  n-3 polyunsaturated fatty acidsa (α-linolenic ...   0.444444    0.888889\n",
      "3                                       Carbohydrate  75.000000  108.333333\n",
      "4                                            Protein  16.666667   58.333333\n",
      "5                                             Sodium   0.500000    0.766667\n"
     ]
    }
   ],
   "source": [
    "requirements=pd.read_excel(\"Matrix Porridge (filtered).xlsx\", \"requirements (2021)\")\n",
    "requirements['min (g)']/=3\n",
    "requirements['max (g)']/=3\n",
    "\n",
    "print(requirements)"
   ]
  },
  {
   "cell_type": "markdown",
   "metadata": {},
   "source": [
    "Note: our data does not split the two kinds of polyunsaturated fat, so we'll have to sum these up. There's another dataset I've been looking at which might work better for this, but we'll get to that later."
   ]
  },
  {
   "cell_type": "code",
   "execution_count": 8,
   "metadata": {},
   "outputs": [],
   "source": [
    "fat_min=requirements.iloc[0,1]\n",
    "fat_max=requirements.iloc[0,2]\n",
    "fat_half_range=(fat_max-fat_min)/2 #calculate this once so we don't need to do it repeatedly in our function later\n",
    "fat_opt=(fat_min+fat_max)/2\n",
    "\n",
    "pufat_min=requirements.iloc[1,1]+requirements.iloc[2,2]\n",
    "pufat_max=requirements.iloc[1,2]+requirements.iloc[2,2]\n",
    "pufat_half_range=(pufat_max-pufat_min)/2\n",
    "pufat_opt=(pufat_min+pufat_max)/2\n",
    "\n",
    "carb_min=requirements.iloc[3,1]\n",
    "carb_max=requirements.iloc[3,2]\n",
    "carb_half_range=(carb_max-carb_min)/2\n",
    "carb_opt=(carb_min+carb_max)/2\n",
    "\n",
    "protein_min=requirements.iloc[4,1]\n",
    "protein_max=requirements.iloc[4,2]\n",
    "protein_half_range=(protein_max-protein_min)/2\n",
    "protein_opt=(protein_min+protein_max)/2\n",
    "\n",
    "sodium_min=requirements.iloc[5,1]\n",
    "sodium_max=requirements.iloc[5,2]\n",
    "sodium_half_range=(sodium_max-sodium_min)/2\n",
    "sodium_opt=(sodium_min+sodium_max)/2"
   ]
  },
  {
   "cell_type": "markdown",
   "metadata": {},
   "source": [
    "## The Approach\n",
    "This is clearly an optimization problem. However, it is a bit more complicated than what you'd typically use Linear Programming to solve. We could potentially frame it that way... with an A matrix 2330 columns wide. But our objective function here isn't written easily as a function of pure X (our ingredients vector), no matter what we decide to optimize.\n",
    "\n",
    "There are, however, many modern machine learning approaches that can help us here. The trick is to use a solver / algorithm that works with a custom function instead of a vector. This way, we can to optimize for a custom value function. SciPy's Linear Programming functionality requires that our objective be a vector, but that doesn't really work here. But there are plenty of alternatives, so we'll try a few of those. \n",
    "\n",
    "First, however, we need to define what it is we seek to optimize. Eventually, we may wish to make this something the user could select from a list of options (which would also alter constraints), to accommodate different nutrition guides, such as Atkins, or a high fiber diet. Or, maybe we seek to maximize quantity of food while still meeting nutrition guidelines. For now, I'm going to take bit of a fuzzy logic approach, with our function outputting a value that's most optimal when all nutrition requirements are exactly in the center of the ranges and where we impose serious (but linear with a slope) penalties if any nutritional requirements fall outisde the acceptable ranges."
   ]
  },
  {
   "cell_type": "code",
   "execution_count": 9,
   "metadata": {},
   "outputs": [
    {
     "name": "stdout",
     "output_type": "stream",
     "text": [
      "[864.     54.76   35.96    6.2     4.85   57.67   32.003   6.767   1.274]\n"
     ]
    }
   ],
   "source": [
    "import numpy as np\n",
    "x=np.zeros(len(final_ingredients_df))\n",
    "x[4]=1\n",
    "x[39]=1\n",
    "x[554]=1\n",
    "x[1000]=1\n",
    "A=inputs.values #get A matrix\n",
    "y=A.dot(x)\n",
    "print(y)"
   ]
  },
  {
   "cell_type": "code",
   "execution_count": 10,
   "metadata": {},
   "outputs": [],
   "source": [
    "def diet_function(ingredients_vector):\n",
    "    y=A.dot(ingredients_vector)\n",
    "    calorie_penalty=10*abs(666.7-y[0]) #weighting calories very highly here\n",
    "    \n",
    "    protein_penalty=abs(y[1]-protein_opt)\n",
    "    if abs(y[1]-protein_opt)>protein_half_range:\n",
    "        protein_penalty*=20\n",
    "    \n",
    "    carb_penalty=abs((y[2]+y[3])-carb_opt)\n",
    "    if carb_penalty>carb_half_range:\n",
    "        carb_penalty*=20    \n",
    "    fiber_bonus=y[3]\n",
    "    sugar_penalty=y[4]\n",
    "\n",
    "        \n",
    "    fat_penalty=abs(y[5]-fat_opt)\n",
    "    if fat_penalty>fat_half_range:\n",
    "        fat_penalty*=20\n",
    "       \n",
    "    sat_fat_penalty=y[6]\n",
    "    \n",
    "    pufat_penalty=abs(y[7]-pufat_opt)\n",
    "    if pufat_penalty>pufat_half_range:\n",
    "        pufat_penalty*=20\n",
    "           \n",
    "    sodium_penalty=abs(y[8]-sodium_opt)\n",
    "    if sodium_penalty>sodium_half_range:\n",
    "        sodium_penalty*=100            \n",
    "            \n",
    "    value=100-calorie_penalty-protein_penalty-carb_penalty+fiber_bonus-sugar_penalty-fat_penalty-sat_fat_penalty-pufat_penalty-sodium_penalty\n",
    "    return -value #return negative since this is a minimization problem\n",
    "        "
   ]
  },
  {
   "cell_type": "markdown",
   "metadata": {},
   "source": [
    "Note: I increased the penalty for sodium from notebook 1. Hopefully, we'll get a result that's a bit less salty."
   ]
  },
  {
   "cell_type": "code",
   "execution_count": 11,
   "metadata": {},
   "outputs": [],
   "source": [
    "from scipy.optimize import minimize,dual_annealing"
   ]
  },
  {
   "cell_type": "code",
   "execution_count": 12,
   "metadata": {},
   "outputs": [],
   "source": [
    "bounds=tuple([(0,10) for i in range(len(final_ingredients_df))])\n",
    "x0=[1]*len(final_ingredients_df)"
   ]
  },
  {
   "cell_type": "code",
   "execution_count": 13,
   "metadata": {},
   "outputs": [
    {
     "name": "stdout",
     "output_type": "stream",
     "text": [
      "Wall time: 3min 4s\n"
     ]
    }
   ],
   "source": [
    "%%time\n",
    "res=minimize(diet_function,x0,method='TNC',bounds=bounds,tol=1e-6,options={'maxiter':int(1e9),'minfev':-100})"
   ]
  },
  {
   "cell_type": "markdown",
   "metadata": {},
   "source": [
    "### Local vs Global Optimization\n",
    "SciPy's minimize function is a local optimization algorithm, with many different methods you can choose from to find a local minima based on various methods depending on whether you have bounded inputs or other constraints. \n",
    "\n",
    "For those that unfamiliar with local vs global optimization concepts, Mathworks (the makers of Matlab) explains it quite well [here](https://www.mathworks.com/help/gads/what-is-global-optimization.html).\n",
    "\n",
    "In a nutshell, because of the way we set up our value function with different slopes / contributions to the overall value for each nutritional category depending on whether they are inside our outside our acceptable ranges, we have made this into a nonlinear problem. What that means is that if we start at a random initial position on our value function and use something like gradient descent or Newton's method (or various other approaches) to follow the slope to the local minima, we can't be sure that this is the same as the overall or global minima, which is the true optimal solution. Our starting point and various other hyperparameters (like learning rate) matter. Check out the following graph for a visual explanation:\n",
    "\n",
    "<img src=\"https://www.mathworks.com/help/gads/local_vs_global.png\">"
   ]
  },
  {
   "cell_type": "markdown",
   "metadata": {},
   "source": [
    "So the way that we typically go about finding the true optimal solution for these sorts of problems is to use a local optimizer with a multitude of initial starting conditions. Those starting conditions can be purely random, or they can follow some sort of search logic. SciPy offers several options. Generally, I find the dual_annealing offers a good overall performance here. But, I'm going to hold off on running that for now because it's quite slow, and as you'll see later, we have a lot of work left to do before we're ready to go for the final run."
   ]
  },
  {
   "cell_type": "code",
   "execution_count": 14,
   "metadata": {},
   "outputs": [],
   "source": [
    "# %%time\n",
    "# res=dual_annealing(diet_function,x0=x0,bounds=bounds,maxfun=1e8,local_search_options={'method':'TNC','options':{'maxiter':int(1e9),'minfev':-100}})"
   ]
  },
  {
   "cell_type": "code",
   "execution_count": 15,
   "metadata": {},
   "outputs": [
    {
     "name": "stdout",
     "output_type": "stream",
     "text": [
      "     fun: 2430.7753009544113\n",
      "     jac: array([5284.46448698, 5309.30551577, 6445.37049084, ..., 4807.35457131,\n",
      "       4769.34555991, 4723.92857773])\n",
      " message: 'Converged (|x_n-x_(n-1)| ~= 0)'\n",
      "    nfev: 2740311\n",
      "     nit: 1123\n",
      "  status: 2\n",
      " success: True\n",
      "       x: array([0., 0., 0., ..., 0., 0., 0.])\n"
     ]
    }
   ],
   "source": [
    "print(res)"
   ]
  },
  {
   "cell_type": "code",
   "execution_count": 16,
   "metadata": {},
   "outputs": [],
   "source": [
    "solution=res.x"
   ]
  },
  {
   "cell_type": "code",
   "execution_count": 17,
   "metadata": {},
   "outputs": [
    {
     "name": "stdout",
     "output_type": "stream",
     "text": [
      "Energ_Kcal    666.700000\n",
      "Protein        46.095861\n",
      "Carbohydrt    133.846173\n",
      "Fiber_TD       50.057140\n",
      "Sugar_Tot      65.843184\n",
      "Lipid_Tot       7.578306\n",
      "FA_Sat          1.451818\n",
      "FA_Poly         3.032653\n",
      "Sodium          3.994649\n",
      "dtype: float64\n"
     ]
    }
   ],
   "source": [
    "output=pd.Series(A.dot(solution),index=inputs.index)\n",
    "print(output)"
   ]
  },
  {
   "cell_type": "markdown",
   "metadata": {},
   "source": [
    "Note: this solution looks pretty good, but it's a bit high in both carbs and sodium. Sugar content is high too, thought it's offset by a very nice fiber content. On the sugar side, they do appear to be natural sugars from vegetables, at least. We may want to revise our value function a bit, but this is not a bad initial result."
   ]
  },
  {
   "cell_type": "code",
   "execution_count": 18,
   "metadata": {},
   "outputs": [
    {
     "name": "stdout",
     "output_type": "stream",
     "text": [
      "Shrt_Desc\n",
      "SALAD DRSNG,SWT&SOUR                                         0.408838\n",
      "BAMBOO SHOOTS,CND,DRND SOL                                   0.410254\n",
      "CABBAGE,CHINESE (PE-TSAI),RAW                                0.491663\n",
      "CUCUMBER,WITH PEEL,RAW                                       0.563560\n",
      "CUCUMBER,PEELED,RAW                                          0.680466\n",
      "LETTUCE,GRN LEAF,RAW                                         0.443536\n",
      "SQUASH,SMMR,CROOKNECK&STRAIGHTNECK,RAW                       0.423032\n",
      "SQUASH,SMMR,CROOKNECK&STRAIGHTNECK,CND,DRND,SOLID,WO/SALT    0.509706\n",
      "SQUASH,SMMR,ZUCCHINI,INCL SKN,RAW                            0.442922\n",
      "WATERCRESS,RAW                                               0.663274\n",
      "WAXGOURD,(CHINESE PRESERVING MELON),CKD,BLD,DRND,WO/SALT     0.589757\n",
      "BEANS,MUNG,MATURE SEEDS,SPROUTED,CND,DRND SOL                0.538580\n",
      "SQUASH,SMMR,ALL VAR,RAW                                      0.491937\n",
      "ASPARAGUS,CND,NO SALT,SOL&LIQUIDS                            0.531024\n",
      "PICKLES,CUCUMBER,DILL OR KOSHER DILL                         0.470045\n",
      "PICKLES,CUCUMBER,SOUR                                        0.419446\n",
      "PICKLES,CUCUMBER,DILL,LO NA                                  0.452181\n",
      "NOPALES,RAW                                                  0.436341\n",
      "NOPALES,CKD,WO/SALT                                          0.453507\n",
      "TURNIP GRNS,CND,NO SALT                                      0.497765\n",
      "CABBAGE,CHINESE (PAK-CHOI),RAW                               0.531501\n",
      "CABBAGE,CHINESE (PAK-CHOI),CKD,BLD,DRND,WO/SALT              0.614515\n",
      "CELERY,RAW                                                   0.502231\n",
      "SQUASH,SMMR,ZUCCHINI,INCL SKN,FRZ,CKD,BLD,DRND,W/SALT        0.485064\n",
      "MUSTARD GRNS,CKD,BLD,DRND,WO/SALT                            0.429591\n",
      "PUMPKIN,FLOWERS,CKD,BLD,DRND,W/SALT                          0.427631\n",
      "SQUASH,SMMR,ZUCCHINI,INCL SKN,CKD,BLD,DRND,W/SALT            0.475786\n",
      "TOMATOES,RED,RIPE,CKD,W/ SALT                                0.443671\n",
      "TOMATO JUC,CND,WO/SALT                                       0.423282\n",
      "PICKLES,CUCUMBER,SOUR,LO NA                                  0.654395\n",
      "dtype: float64\n"
     ]
    }
   ],
   "source": [
    "solution_ds=pd.Series(solution,index=final_ingredients_df.index)\n",
    "solution_ds.to_csv('matrix_porridge_refined_recipe.csv')\n",
    "solution_ds=solution_ds[solution_ds>0.4]\n",
    "print(solution_ds)"
   ]
  },
  {
   "cell_type": "markdown",
   "metadata": {},
   "source": [
    "Note: units are in 100g. We'll have to convert this something more useful when we're ready to make it."
   ]
  },
  {
   "cell_type": "markdown",
   "metadata": {},
   "source": [
    "## Next Steps\n",
    "\n",
    "We still have a couple clusters of similar items here, and our sodium level is still high. One thing to see is that there are several types of items that say \"W/SALT\" in their description. I confirmed these have \"WO/SALT\" counterparts. For our next iteration, we'll remove all the items with salt added.\n",
    "\n",
    "Also, I'm realizing that my original dataset from 2010 has no meat in it... just meat alternatives like tofu. This is probably because I was a vegetarian at the time, and even though I'm not a strict vegetarian now, it would probably be worth testing this both with and without meat to see the difference and offer people a couple options.\n",
    "\n",
    "I've now re-downloaded the USDA database, which they offer in a convenient MS Access format, though they did not predefine any of the relationships between tables, not did they create the final summary sheet via a query to generate what we have now, so I'm having to do a bit of work.\n",
    "\n",
    "The next version will have that updated dataset, and I will remove any items that have added salt, add back in regular table salt as an ingredient in case it's needed, and see how it does. With any luck, we'll be ready to run this through our global optimizer."
   ]
  },
  {
   "cell_type": "code",
   "execution_count": null,
   "metadata": {},
   "outputs": [],
   "source": []
  }
 ],
 "metadata": {
  "kernelspec": {
   "display_name": "jokia",
   "language": "python",
   "name": "jokia"
  },
  "language_info": {
   "codemirror_mode": {
    "name": "ipython",
    "version": 3
   },
   "file_extension": ".py",
   "mimetype": "text/x-python",
   "name": "python",
   "nbconvert_exporter": "python",
   "pygments_lexer": "ipython3",
   "version": "3.8.6"
  }
 },
 "nbformat": 4,
 "nbformat_minor": 4
}
