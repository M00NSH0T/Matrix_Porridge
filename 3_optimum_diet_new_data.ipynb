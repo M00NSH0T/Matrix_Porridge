{
 "cells": [
  {
   "cell_type": "markdown",
   "metadata": {},
   "source": [
    "# Matrix Porridge\n",
    "by Kyle Archie, M.Eng\n",
    "\n",
    "This work builds upon the first two notebooks in this repository. Please read through that one for background and explanation of the data / process.\n",
    "\n",
    "## Notebook 3: Filtering our Input Data via Clustering\n",
    "\n",
    "I went back to the [root data from the USDA](https://fdc.nal.usda.gov/download-datasets.html). I used the MS Access download option for April 2021. I had to build several new queries to generate an export we can use that resembles the old format. Unfortunately, the database itself is too big to upload to GitHub, but I included the main export as an Excel sheet here which includes all the different foods within the \"survey_fndds_foods\" table, along with their categories, the full descriptions from the \"foods\" table along with the nutrition content for all the tested nutrients (I believe this is per 100g of that food). Then, I selected the categories for unprocessed, raw ingredients, at least as much I was able to. The filtered data was then copied to another worksheet, which is what we'll be working with from here on out.\n",
    "\n",
    "Note: I still intend to use clustering technique, possibly with some refinements, to filter out similar items. Unfortunately, it appears that the descriptions for many of these foods has changed since I used this data last. \"w/ salt\" is no longer a string we can use to parse out variants of ingredients with added salt. I may have to manually scrub this."
   ]
  },
  {
   "cell_type": "code",
   "execution_count": 1,
   "metadata": {},
   "outputs": [],
   "source": [
    "import pandas as pd\n",
    "\n",
    "ingredients = pd.read_excel(\"FoodData_Export.xlsx\", \"filtered\")\n",
    "ingredients['Sodium, Na']=ingredients['Sodium, Na']/1000 #values are in mg... convert to g\n",
    "ingredients.set_index('description',inplace=True)\n",
    "ingredients['Total Fat']=ingredients[['Fatty acids, total saturated','Fatty acids, total monounsaturated','Fatty acids, total polyunsaturated']].sum(axis=1)\n",
    "ingredients=ingredients[['Energy','Protein','Carbohydrate, by difference','Fiber, total dietary','Sugars, total including NLEA','Total Fat','Fatty acids, total saturated','Fatty acids, total polyunsaturated','Sodium, Na']].dropna()"
   ]
  },
  {
   "cell_type": "markdown",
   "metadata": {},
   "source": [
    "Reference used: https://towardsdatascience.com/k-means-vs-dbscan-clustering-49f8e627de27"
   ]
  },
  {
   "cell_type": "code",
   "execution_count": 2,
   "metadata": {},
   "outputs": [],
   "source": [
    "from sklearn import metrics\n",
    "from sklearn.cluster import DBSCAN\n",
    "import matplotlib.pyplot as plt\n",
    "import numpy as np"
   ]
  },
  {
   "cell_type": "code",
   "execution_count": 3,
   "metadata": {},
   "outputs": [],
   "source": [
    "ingredients_dbscan = DBSCAN(eps=0.5, min_samples=2)\n",
    "ingredients_dbscan.fit(ingredients.values)\n",
    "labels = ingredients_dbscan.labels_\n",
    "\n",
    "# Creating a numpy array with all values set to false by default\n",
    "samples_mask = np.zeros_like(labels, dtype=bool)\n",
    "# add outliers\n",
    "samples_mask[labels==-1] = True\n",
    "\n",
    "#add outliers to our final dataset\n",
    "final_ingredients_df=ingredients[samples_mask]"
   ]
  },
  {
   "cell_type": "code",
   "execution_count": 4,
   "metadata": {},
   "outputs": [],
   "source": [
    "# Finding the number of clusters in labels (ignoring noise if present)\n",
    "n_clusters = len(set(labels)) - (1 if -1 in labels else 0)\n",
    "for i in range(n_clusters):\n",
    "    sample=ingredients[labels==i].sample(1)\n",
    "    final_ingredients_df=final_ingredients_df.append(sample)\n"
   ]
  },
  {
   "cell_type": "code",
   "execution_count": 5,
   "metadata": {},
   "outputs": [
    {
     "data": {
      "text/html": [
       "<div>\n",
       "<style scoped>\n",
       "    .dataframe tbody tr th:only-of-type {\n",
       "        vertical-align: middle;\n",
       "    }\n",
       "\n",
       "    .dataframe tbody tr th {\n",
       "        vertical-align: top;\n",
       "    }\n",
       "\n",
       "    .dataframe thead th {\n",
       "        text-align: right;\n",
       "    }\n",
       "</style>\n",
       "<table border=\"1\" class=\"dataframe\">\n",
       "  <thead>\n",
       "    <tr style=\"text-align: right;\">\n",
       "      <th>description</th>\n",
       "      <th>Apple juice, 100%, with calcium added</th>\n",
       "      <th>Apple, raw</th>\n",
       "      <th>Applesauce, unsweetened</th>\n",
       "      <th>Apple pie filling</th>\n",
       "      <th>Apple, baked</th>\n",
       "      <th>Apple, candied</th>\n",
       "      <th>Beef, bacon, cooked</th>\n",
       "      <th>Turkey bacon, cooked</th>\n",
       "      <th>Bacon bits</th>\n",
       "      <th>Banana, raw</th>\n",
       "      <th>...</th>\n",
       "      <th>Cornish game hen, roasted, skin eaten</th>\n",
       "      <th>Cornish game hen, roasted, skin not eaten</th>\n",
       "      <th>Tomato and vegetable juice, 100%, low sodium</th>\n",
       "      <th>Tomato juice cocktail</th>\n",
       "      <th>Yogurt, Greek, NS as to type of milk or flavor</th>\n",
       "      <th>Yogurt, Greek, low fat milk, fruit</th>\n",
       "      <th>Yogurt, Greek, NS as to type of milk, flavors other than fruit</th>\n",
       "      <th>Yogurt, NS as to type of milk or flavor</th>\n",
       "      <th>Yogurt, low fat milk, fruit</th>\n",
       "      <th>Yogurt, NS as to type of milk, flavors other than fruit</th>\n",
       "    </tr>\n",
       "  </thead>\n",
       "  <tbody>\n",
       "    <tr>\n",
       "      <th>Energy</th>\n",
       "      <td>48.000</td>\n",
       "      <td>52.000</td>\n",
       "      <td>42.000</td>\n",
       "      <td>100.000</td>\n",
       "      <td>112.000</td>\n",
       "      <td>134.000</td>\n",
       "      <td>449.00</td>\n",
       "      <td>368.000</td>\n",
       "      <td>476.000</td>\n",
       "      <td>89.000</td>\n",
       "      <td>...</td>\n",
       "      <td>257.000</td>\n",
       "      <td>133.000</td>\n",
       "      <td>22.000</td>\n",
       "      <td>22.000</td>\n",
       "      <td>73.000</td>\n",
       "      <td>105.000</td>\n",
       "      <td>95.000</td>\n",
       "      <td>63.000</td>\n",
       "      <td>89.000</td>\n",
       "      <td>73.000</td>\n",
       "    </tr>\n",
       "    <tr>\n",
       "      <th>Protein</th>\n",
       "      <td>0.120</td>\n",
       "      <td>0.260</td>\n",
       "      <td>0.170</td>\n",
       "      <td>0.100</td>\n",
       "      <td>0.320</td>\n",
       "      <td>1.340</td>\n",
       "      <td>31.30</td>\n",
       "      <td>29.500</td>\n",
       "      <td>32.000</td>\n",
       "      <td>1.090</td>\n",
       "      <td>...</td>\n",
       "      <td>22.080</td>\n",
       "      <td>23.110</td>\n",
       "      <td>0.600</td>\n",
       "      <td>0.930</td>\n",
       "      <td>9.950</td>\n",
       "      <td>8.170</td>\n",
       "      <td>8.640</td>\n",
       "      <td>5.250</td>\n",
       "      <td>4.660</td>\n",
       "      <td>5.090</td>\n",
       "    </tr>\n",
       "    <tr>\n",
       "      <th>Carbohydrate, by difference</th>\n",
       "      <td>11.490</td>\n",
       "      <td>13.810</td>\n",
       "      <td>11.270</td>\n",
       "      <td>26.100</td>\n",
       "      <td>22.700</td>\n",
       "      <td>29.610</td>\n",
       "      <td>1.40</td>\n",
       "      <td>4.240</td>\n",
       "      <td>28.600</td>\n",
       "      <td>22.840</td>\n",
       "      <td>...</td>\n",
       "      <td>0.000</td>\n",
       "      <td>0.000</td>\n",
       "      <td>4.590</td>\n",
       "      <td>3.870</td>\n",
       "      <td>3.940</td>\n",
       "      <td>12.290</td>\n",
       "      <td>9.540</td>\n",
       "      <td>7.040</td>\n",
       "      <td>14.460</td>\n",
       "      <td>9.820</td>\n",
       "    </tr>\n",
       "    <tr>\n",
       "      <th>Fiber, total dietary</th>\n",
       "      <td>0.300</td>\n",
       "      <td>2.400</td>\n",
       "      <td>1.100</td>\n",
       "      <td>1.000</td>\n",
       "      <td>2.500</td>\n",
       "      <td>1.800</td>\n",
       "      <td>0.00</td>\n",
       "      <td>0.000</td>\n",
       "      <td>10.200</td>\n",
       "      <td>2.600</td>\n",
       "      <td>...</td>\n",
       "      <td>0.000</td>\n",
       "      <td>0.000</td>\n",
       "      <td>0.800</td>\n",
       "      <td>0.500</td>\n",
       "      <td>0.000</td>\n",
       "      <td>1.000</td>\n",
       "      <td>0.000</td>\n",
       "      <td>0.000</td>\n",
       "      <td>0.100</td>\n",
       "      <td>0.000</td>\n",
       "    </tr>\n",
       "    <tr>\n",
       "      <th>Sugars, total including NLEA</th>\n",
       "      <td>9.470</td>\n",
       "      <td>10.390</td>\n",
       "      <td>9.390</td>\n",
       "      <td>13.800</td>\n",
       "      <td>18.990</td>\n",
       "      <td>24.170</td>\n",
       "      <td>0.00</td>\n",
       "      <td>4.240</td>\n",
       "      <td>0.000</td>\n",
       "      <td>12.230</td>\n",
       "      <td>...</td>\n",
       "      <td>0.000</td>\n",
       "      <td>0.000</td>\n",
       "      <td>3.280</td>\n",
       "      <td>2.840</td>\n",
       "      <td>3.560</td>\n",
       "      <td>11.230</td>\n",
       "      <td>9.540</td>\n",
       "      <td>7.040</td>\n",
       "      <td>12.010</td>\n",
       "      <td>9.820</td>\n",
       "    </tr>\n",
       "    <tr>\n",
       "      <th>Total Fat</th>\n",
       "      <td>0.088</td>\n",
       "      <td>0.086</td>\n",
       "      <td>0.024</td>\n",
       "      <td>0.000</td>\n",
       "      <td>2.806</td>\n",
       "      <td>1.939</td>\n",
       "      <td>32.78</td>\n",
       "      <td>23.186</td>\n",
       "      <td>23.828</td>\n",
       "      <td>0.217</td>\n",
       "      <td>...</td>\n",
       "      <td>16.511</td>\n",
       "      <td>3.144</td>\n",
       "      <td>0.072</td>\n",
       "      <td>0.224</td>\n",
       "      <td>1.792</td>\n",
       "      <td>2.362</td>\n",
       "      <td>2.514</td>\n",
       "      <td>1.470</td>\n",
       "      <td>1.299</td>\n",
       "      <td>1.426</td>\n",
       "    </tr>\n",
       "    <tr>\n",
       "      <th>Fatty acids, total saturated</th>\n",
       "      <td>0.029</td>\n",
       "      <td>0.028</td>\n",
       "      <td>0.008</td>\n",
       "      <td>0.000</td>\n",
       "      <td>1.812</td>\n",
       "      <td>0.640</td>\n",
       "      <td>14.35</td>\n",
       "      <td>6.933</td>\n",
       "      <td>4.055</td>\n",
       "      <td>0.112</td>\n",
       "      <td>...</td>\n",
       "      <td>5.008</td>\n",
       "      <td>0.982</td>\n",
       "      <td>0.014</td>\n",
       "      <td>0.088</td>\n",
       "      <td>1.230</td>\n",
       "      <td>1.599</td>\n",
       "      <td>1.465</td>\n",
       "      <td>1.000</td>\n",
       "      <td>0.881</td>\n",
       "      <td>0.970</td>\n",
       "    </tr>\n",
       "    <tr>\n",
       "      <th>Fatty acids, total polyunsaturated</th>\n",
       "      <td>0.051</td>\n",
       "      <td>0.051</td>\n",
       "      <td>0.014</td>\n",
       "      <td>0.000</td>\n",
       "      <td>0.160</td>\n",
       "      <td>0.908</td>\n",
       "      <td>1.58</td>\n",
       "      <td>6.871</td>\n",
       "      <td>13.548</td>\n",
       "      <td>0.073</td>\n",
       "      <td>...</td>\n",
       "      <td>3.570</td>\n",
       "      <td>0.932</td>\n",
       "      <td>0.042</td>\n",
       "      <td>0.076</td>\n",
       "      <td>0.076</td>\n",
       "      <td>0.113</td>\n",
       "      <td>0.203</td>\n",
       "      <td>0.044</td>\n",
       "      <td>0.039</td>\n",
       "      <td>0.043</td>\n",
       "    </tr>\n",
       "    <tr>\n",
       "      <th>Sodium, Na</th>\n",
       "      <td>0.005</td>\n",
       "      <td>0.001</td>\n",
       "      <td>0.002</td>\n",
       "      <td>0.047</td>\n",
       "      <td>0.004</td>\n",
       "      <td>0.062</td>\n",
       "      <td>1.50</td>\n",
       "      <td>2.021</td>\n",
       "      <td>1.770</td>\n",
       "      <td>0.001</td>\n",
       "      <td>...</td>\n",
       "      <td>0.386</td>\n",
       "      <td>0.385</td>\n",
       "      <td>0.058</td>\n",
       "      <td>0.169</td>\n",
       "      <td>0.034</td>\n",
       "      <td>0.033</td>\n",
       "      <td>0.040</td>\n",
       "      <td>0.070</td>\n",
       "      <td>0.065</td>\n",
       "      <td>0.068</td>\n",
       "    </tr>\n",
       "  </tbody>\n",
       "</table>\n",
       "<p>9 rows × 1608 columns</p>\n",
       "</div>"
      ],
      "text/plain": [
       "description                         Apple juice, 100%, with calcium added  \\\n",
       "Energy                                                             48.000   \n",
       "Protein                                                             0.120   \n",
       "Carbohydrate, by difference                                        11.490   \n",
       "Fiber, total dietary                                                0.300   \n",
       "Sugars, total including NLEA                                        9.470   \n",
       "Total Fat                                                           0.088   \n",
       "Fatty acids, total saturated                                        0.029   \n",
       "Fatty acids, total polyunsaturated                                  0.051   \n",
       "Sodium, Na                                                          0.005   \n",
       "\n",
       "description                         Apple, raw  Applesauce, unsweetened  \\\n",
       "Energy                                  52.000                   42.000   \n",
       "Protein                                  0.260                    0.170   \n",
       "Carbohydrate, by difference             13.810                   11.270   \n",
       "Fiber, total dietary                     2.400                    1.100   \n",
       "Sugars, total including NLEA            10.390                    9.390   \n",
       "Total Fat                                0.086                    0.024   \n",
       "Fatty acids, total saturated             0.028                    0.008   \n",
       "Fatty acids, total polyunsaturated       0.051                    0.014   \n",
       "Sodium, Na                               0.001                    0.002   \n",
       "\n",
       "description                         Apple pie filling  Apple, baked  \\\n",
       "Energy                                        100.000       112.000   \n",
       "Protein                                         0.100         0.320   \n",
       "Carbohydrate, by difference                    26.100        22.700   \n",
       "Fiber, total dietary                            1.000         2.500   \n",
       "Sugars, total including NLEA                   13.800        18.990   \n",
       "Total Fat                                       0.000         2.806   \n",
       "Fatty acids, total saturated                    0.000         1.812   \n",
       "Fatty acids, total polyunsaturated              0.000         0.160   \n",
       "Sodium, Na                                      0.047         0.004   \n",
       "\n",
       "description                         Apple, candied  Beef, bacon, cooked  \\\n",
       "Energy                                     134.000               449.00   \n",
       "Protein                                      1.340                31.30   \n",
       "Carbohydrate, by difference                 29.610                 1.40   \n",
       "Fiber, total dietary                         1.800                 0.00   \n",
       "Sugars, total including NLEA                24.170                 0.00   \n",
       "Total Fat                                    1.939                32.78   \n",
       "Fatty acids, total saturated                 0.640                14.35   \n",
       "Fatty acids, total polyunsaturated           0.908                 1.58   \n",
       "Sodium, Na                                   0.062                 1.50   \n",
       "\n",
       "description                         Turkey bacon, cooked  Bacon bits  \\\n",
       "Energy                                           368.000     476.000   \n",
       "Protein                                           29.500      32.000   \n",
       "Carbohydrate, by difference                        4.240      28.600   \n",
       "Fiber, total dietary                               0.000      10.200   \n",
       "Sugars, total including NLEA                       4.240       0.000   \n",
       "Total Fat                                         23.186      23.828   \n",
       "Fatty acids, total saturated                       6.933       4.055   \n",
       "Fatty acids, total polyunsaturated                 6.871      13.548   \n",
       "Sodium, Na                                         2.021       1.770   \n",
       "\n",
       "description                         Banana, raw  ...  \\\n",
       "Energy                                   89.000  ...   \n",
       "Protein                                   1.090  ...   \n",
       "Carbohydrate, by difference              22.840  ...   \n",
       "Fiber, total dietary                      2.600  ...   \n",
       "Sugars, total including NLEA             12.230  ...   \n",
       "Total Fat                                 0.217  ...   \n",
       "Fatty acids, total saturated              0.112  ...   \n",
       "Fatty acids, total polyunsaturated        0.073  ...   \n",
       "Sodium, Na                                0.001  ...   \n",
       "\n",
       "description                         Cornish game hen, roasted, skin eaten  \\\n",
       "Energy                                                            257.000   \n",
       "Protein                                                            22.080   \n",
       "Carbohydrate, by difference                                         0.000   \n",
       "Fiber, total dietary                                                0.000   \n",
       "Sugars, total including NLEA                                        0.000   \n",
       "Total Fat                                                          16.511   \n",
       "Fatty acids, total saturated                                        5.008   \n",
       "Fatty acids, total polyunsaturated                                  3.570   \n",
       "Sodium, Na                                                          0.386   \n",
       "\n",
       "description                         Cornish game hen, roasted, skin not eaten  \\\n",
       "Energy                                                                133.000   \n",
       "Protein                                                                23.110   \n",
       "Carbohydrate, by difference                                             0.000   \n",
       "Fiber, total dietary                                                    0.000   \n",
       "Sugars, total including NLEA                                            0.000   \n",
       "Total Fat                                                               3.144   \n",
       "Fatty acids, total saturated                                            0.982   \n",
       "Fatty acids, total polyunsaturated                                      0.932   \n",
       "Sodium, Na                                                              0.385   \n",
       "\n",
       "description                         Tomato and vegetable juice, 100%, low sodium  \\\n",
       "Energy                                                                    22.000   \n",
       "Protein                                                                    0.600   \n",
       "Carbohydrate, by difference                                                4.590   \n",
       "Fiber, total dietary                                                       0.800   \n",
       "Sugars, total including NLEA                                               3.280   \n",
       "Total Fat                                                                  0.072   \n",
       "Fatty acids, total saturated                                               0.014   \n",
       "Fatty acids, total polyunsaturated                                         0.042   \n",
       "Sodium, Na                                                                 0.058   \n",
       "\n",
       "description                         Tomato juice cocktail  \\\n",
       "Energy                                             22.000   \n",
       "Protein                                             0.930   \n",
       "Carbohydrate, by difference                         3.870   \n",
       "Fiber, total dietary                                0.500   \n",
       "Sugars, total including NLEA                        2.840   \n",
       "Total Fat                                           0.224   \n",
       "Fatty acids, total saturated                        0.088   \n",
       "Fatty acids, total polyunsaturated                  0.076   \n",
       "Sodium, Na                                          0.169   \n",
       "\n",
       "description                         Yogurt, Greek, NS as to type of milk or flavor  \\\n",
       "Energy                                                                      73.000   \n",
       "Protein                                                                      9.950   \n",
       "Carbohydrate, by difference                                                  3.940   \n",
       "Fiber, total dietary                                                         0.000   \n",
       "Sugars, total including NLEA                                                 3.560   \n",
       "Total Fat                                                                    1.792   \n",
       "Fatty acids, total saturated                                                 1.230   \n",
       "Fatty acids, total polyunsaturated                                           0.076   \n",
       "Sodium, Na                                                                   0.034   \n",
       "\n",
       "description                         Yogurt, Greek, low fat milk, fruit  \\\n",
       "Energy                                                         105.000   \n",
       "Protein                                                          8.170   \n",
       "Carbohydrate, by difference                                     12.290   \n",
       "Fiber, total dietary                                             1.000   \n",
       "Sugars, total including NLEA                                    11.230   \n",
       "Total Fat                                                        2.362   \n",
       "Fatty acids, total saturated                                     1.599   \n",
       "Fatty acids, total polyunsaturated                               0.113   \n",
       "Sodium, Na                                                       0.033   \n",
       "\n",
       "description                         Yogurt, Greek, NS as to type of milk, flavors other than fruit  \\\n",
       "Energy                                                                         95.000                \n",
       "Protein                                                                         8.640                \n",
       "Carbohydrate, by difference                                                     9.540                \n",
       "Fiber, total dietary                                                            0.000                \n",
       "Sugars, total including NLEA                                                    9.540                \n",
       "Total Fat                                                                       2.514                \n",
       "Fatty acids, total saturated                                                    1.465                \n",
       "Fatty acids, total polyunsaturated                                              0.203                \n",
       "Sodium, Na                                                                      0.040                \n",
       "\n",
       "description                         Yogurt, NS as to type of milk or flavor  \\\n",
       "Energy                                                               63.000   \n",
       "Protein                                                               5.250   \n",
       "Carbohydrate, by difference                                           7.040   \n",
       "Fiber, total dietary                                                  0.000   \n",
       "Sugars, total including NLEA                                          7.040   \n",
       "Total Fat                                                             1.470   \n",
       "Fatty acids, total saturated                                          1.000   \n",
       "Fatty acids, total polyunsaturated                                    0.044   \n",
       "Sodium, Na                                                            0.070   \n",
       "\n",
       "description                         Yogurt, low fat milk, fruit  \\\n",
       "Energy                                                   89.000   \n",
       "Protein                                                   4.660   \n",
       "Carbohydrate, by difference                              14.460   \n",
       "Fiber, total dietary                                      0.100   \n",
       "Sugars, total including NLEA                             12.010   \n",
       "Total Fat                                                 1.299   \n",
       "Fatty acids, total saturated                              0.881   \n",
       "Fatty acids, total polyunsaturated                        0.039   \n",
       "Sodium, Na                                                0.065   \n",
       "\n",
       "description                         Yogurt, NS as to type of milk, flavors other than fruit  \n",
       "Energy                                                                         73.000        \n",
       "Protein                                                                         5.090        \n",
       "Carbohydrate, by difference                                                     9.820        \n",
       "Fiber, total dietary                                                            0.000        \n",
       "Sugars, total including NLEA                                                    9.820        \n",
       "Total Fat                                                                       1.426        \n",
       "Fatty acids, total saturated                                                    0.970        \n",
       "Fatty acids, total polyunsaturated                                              0.043        \n",
       "Sodium, Na                                                                      0.068        \n",
       "\n",
       "[9 rows x 1608 columns]"
      ]
     },
     "execution_count": 5,
     "metadata": {},
     "output_type": "execute_result"
    }
   ],
   "source": [
    "inputs=final_ingredients_df.T\n",
    "# inputs.columns=ingredients['Shrt_Desc']\n",
    "# inputs.dropna(inplace=True,axis=1) #some of these ingredients have null values. Remove those. \n",
    "inputs.fillna(0,inplace=True)\n",
    "inputs.head(10)"
   ]
  },
  {
   "cell_type": "code",
   "execution_count": 6,
   "metadata": {},
   "outputs": [
    {
     "name": "stdout",
     "output_type": "stream",
     "text": [
      "Index(['Energy', 'Protein', 'Carbohydrate, by difference',\n",
      "       'Fiber, total dietary', 'Sugars, total including NLEA', 'Total Fat',\n",
      "       'Fatty acids, total saturated', 'Fatty acids, total polyunsaturated',\n",
      "       'Sodium, Na'],\n",
      "      dtype='object')\n"
     ]
    }
   ],
   "source": [
    "print(ingredients.columns)"
   ]
  },
  {
   "cell_type": "code",
   "execution_count": 7,
   "metadata": {},
   "outputs": [
    {
     "name": "stdout",
     "output_type": "stream",
     "text": [
      "                                          Unnamed: 0    min (g)     max (g)\n",
      "0                                                Fat  14.814815   25.925926\n",
      "1   n-6 polyunsaturated fatty acidsa (linoleic acid)   3.703704    7.407407\n",
      "2  n-3 polyunsaturated fatty acidsa (α-linolenic ...   0.444444    0.888889\n",
      "3                                       Carbohydrate  75.000000  108.333333\n",
      "4                                            Protein  16.666667   58.333333\n",
      "5                                             Sodium   0.500000    0.766667\n"
     ]
    }
   ],
   "source": [
    "requirements=pd.read_excel(\"Matrix Porridge (filtered).xlsx\", \"requirements (2021)\")\n",
    "requirements['min (g)']/=3\n",
    "requirements['max (g)']/=3\n",
    "\n",
    "print(requirements)"
   ]
  },
  {
   "cell_type": "markdown",
   "metadata": {},
   "source": [
    "Note: our data does not split the two kinds of polyunsaturated fat, so we'll have to sum these up. There's another dataset I've been looking at which might work better for this, but we'll get to that later."
   ]
  },
  {
   "cell_type": "code",
   "execution_count": 8,
   "metadata": {},
   "outputs": [],
   "source": [
    "fat_min=requirements.iloc[0,1]\n",
    "fat_max=requirements.iloc[0,2]\n",
    "fat_half_range=(fat_max-fat_min)/2 #calculate this once so we don't need to do it repeatedly in our function later\n",
    "fat_opt=(fat_min+fat_max)/2\n",
    "\n",
    "pufat_min=requirements.iloc[1,1]+requirements.iloc[2,2]\n",
    "pufat_max=requirements.iloc[1,2]+requirements.iloc[2,2]\n",
    "pufat_half_range=(pufat_max-pufat_min)/2\n",
    "pufat_opt=(pufat_min+pufat_max)/2\n",
    "\n",
    "carb_min=requirements.iloc[3,1]\n",
    "carb_max=requirements.iloc[3,2]\n",
    "carb_half_range=(carb_max-carb_min)/2\n",
    "carb_opt=(carb_min+carb_max)/2\n",
    "\n",
    "protein_min=requirements.iloc[4,1]\n",
    "protein_max=requirements.iloc[4,2]\n",
    "protein_half_range=(protein_max-protein_min)/2\n",
    "protein_opt=(protein_min+protein_max)/2\n",
    "\n",
    "sodium_min=requirements.iloc[5,1]\n",
    "sodium_max=requirements.iloc[5,2]\n",
    "sodium_half_range=(sodium_max-sodium_min)/2\n",
    "sodium_opt=(sodium_min+sodium_max)/2"
   ]
  },
  {
   "cell_type": "markdown",
   "metadata": {},
   "source": [
    "## The Approach\n",
    "This is clearly an optimization problem. However, it is a bit more complicated than what you'd typically use Linear Programming to solve. We could potentially frame it that way... with an A matrix 2330 columns wide. But our objective function here isn't written easily as a function of pure X (our ingredients vector), no matter what we decide to optimize.\n",
    "\n",
    "There are, however, many modern machine learning approaches that can help us here. The trick is to use a solver / algorithm that works with a custom function instead of a vector. This way, we can to optimize for a custom value function. SciPy's Linear Programming functionality requires that our objective be a vector, but that doesn't really work here. But there are plenty of alternatives, so we'll try a few of those. \n",
    "\n",
    "First, however, we need to define what it is we seek to optimize. Eventually, we may wish to make this something the user could select from a list of options (which would also alter constraints), to accommodate different nutrition guides, such as Atkins, or a high fiber diet. Or, maybe we seek to maximize quantity of food while still meeting nutrition guidelines. For now, I'm going to take bit of a fuzzy logic approach, with our function outputting a value that's most optimal when all nutrition requirements are exactly in the center of the ranges and where we impose serious (but linear with a slope) penalties if any nutritional requirements fall outisde the acceptable ranges."
   ]
  },
  {
   "cell_type": "code",
   "execution_count": 9,
   "metadata": {},
   "outputs": [
    {
     "name": "stdout",
     "output_type": "stream",
     "text": [
      "[432.     30.36   49.53   11.7    25.12   11.347   3.49    3.42    0.551]\n"
     ]
    }
   ],
   "source": [
    "import numpy as np\n",
    "x=np.zeros(len(final_ingredients_df))\n",
    "x[4]=1\n",
    "x[39]=1\n",
    "x[554]=1\n",
    "x[1000]=1\n",
    "A=inputs.values #get A matrix\n",
    "y=A.dot(x)\n",
    "print(y)"
   ]
  },
  {
   "cell_type": "code",
   "execution_count": 10,
   "metadata": {},
   "outputs": [],
   "source": [
    "def diet_function(ingredients_vector):\n",
    "    y=A.dot(ingredients_vector)\n",
    "    calorie_penalty=(666.7-y[0])**2 #weighting calories very highly here\n",
    "    \n",
    "    protein_penalty=abs(y[1]-protein_opt)\n",
    "    if abs(y[1]-protein_opt)>protein_half_range:\n",
    "        protein_penalty*=protein_penalty\n",
    "    \n",
    "    carb_penalty=abs((y[2]+y[3])-carb_opt)\n",
    "    if carb_penalty>carb_half_range:\n",
    "        carb_penalty*=carb_penalty    \n",
    "#     fiber_bonus=y[3]\n",
    "    sugar_penalty=y[4]**2\n",
    "\n",
    "        \n",
    "    fat_penalty=abs(y[5]-fat_opt)\n",
    "    if fat_penalty>fat_half_range:\n",
    "        fat_penalty*=fat_penalty\n",
    "       \n",
    "    sat_fat_penalty=y[6]**2\n",
    "    \n",
    "    pufat_penalty=abs(y[7]-pufat_opt)\n",
    "    if pufat_penalty>pufat_half_range:\n",
    "        pufat_penalty*=pufat_penalty\n",
    "           \n",
    "    sodium_penalty=abs(y[8]-sodium_opt)\n",
    "    if sodium_penalty>sodium_half_range:\n",
    "        sodium_penalty*=sodium_penalty*10 #adjusting for small number         \n",
    "            \n",
    "    value=calorie_penalty+protein_penalty+carb_penalty+sugar_penalty+fat_penalty+sat_fat_penalty+pufat_penalty+sodium_penalty\n",
    "    return value \n",
    "        "
   ]
  },
  {
   "cell_type": "markdown",
   "metadata": {},
   "source": [
    "Note: There are several changes here. I now use a square of the error when outside the acceptable ranges for the penalty terms, as well as an overall square for the calorie penalty. I eliminated the 100 calorie offset, as well as the fiber bonus, meaning the optimal solution will now be the root of the function, which should work better with Newton's method, which is, according to the documentation, the core of the TNC algorithm. "
   ]
  },
  {
   "cell_type": "code",
   "execution_count": 11,
   "metadata": {},
   "outputs": [],
   "source": [
    "from scipy.optimize import minimize,dual_annealing"
   ]
  },
  {
   "cell_type": "code",
   "execution_count": 12,
   "metadata": {},
   "outputs": [],
   "source": [
    "bounds=tuple([(0,10) for i in range(len(final_ingredients_df))])\n",
    "x0=[.05]*len(final_ingredients_df)"
   ]
  },
  {
   "cell_type": "markdown",
   "metadata": {},
   "source": [
    "Note: trying a different initial condition here... .05 instead of 1"
   ]
  },
  {
   "cell_type": "markdown",
   "metadata": {},
   "source": [
    "### Local vs Global Optimization\n",
    "SciPy's minimize function is a local optimization algorithm, with many different methods you can choose from to find a local minima based on various methods depending on whether you have bounded inputs or other constraints. \n",
    "\n",
    "For those that unfamiliar with local vs global optimization concepts, Mathworks (the makers of Matlab) explains it quite well [here](https://www.mathworks.com/help/gads/what-is-global-optimization.html).\n",
    "\n",
    "In a nutshell, because of the way we set up our value function with different slopes / contributions to the overall value for each nutritional category depending on whether they are inside our outside our acceptable ranges, we have made this into a nonlinear problem. What that means is that if we start at a random initial position on our value function and use something like gradient descent or Newton's method (or various other approaches) to follow the slope to the local minima, we can't be sure that this is the same as the overall or global minima, which is the true optimal solution. Our starting point and various other hyperparameters (like learning rate) matter. Check out the following graph for a visual explanation:\n",
    "\n",
    "<img src=\"https://www.mathworks.com/help/gads/local_vs_global.png\">"
   ]
  },
  {
   "cell_type": "markdown",
   "metadata": {},
   "source": [
    "So the way that we typically go about finding the true optimal solution for these sorts of problems is to use a local optimizer with a multitude of initial starting conditions. Those starting conditions can be purely random, or they can follow some sort of search logic. SciPy offers several options. Generally, I find the dual_annealing offers a good overall performance here. But, I'm going to hold off on running that for now because it's quite slow, and as you'll see later, we have a lot of work left to do before we're ready to go for the final run."
   ]
  },
  {
   "cell_type": "code",
   "execution_count": 13,
   "metadata": {},
   "outputs": [],
   "source": [
    "# %%time\n",
    "# res=minimize(diet_function,x0,method='TNC',bounds=bounds,tol=1e-1,options={'maxiter':int(1e9),'minfev':0})"
   ]
  },
  {
   "cell_type": "code",
   "execution_count": 14,
   "metadata": {},
   "outputs": [
    {
     "name": "stdout",
     "output_type": "stream",
     "text": [
      "Wall time: 4h 6min 32s\n"
     ]
    }
   ],
   "source": [
    "%%time\n",
    "res=dual_annealing(diet_function,x0=x0,bounds=bounds,maxfun=5e9,local_search_options={'method':'TNC','options':{'maxiter':int(1e3),'minfev':0}})"
   ]
  },
  {
   "cell_type": "code",
   "execution_count": 15,
   "metadata": {},
   "outputs": [
    {
     "name": "stdout",
     "output_type": "stream",
     "text": [
      "     fun: 80.18513803165641\n",
      " message: ['Maximum number of iteration reached']\n",
      "    nfev: 518776608\n",
      "    nhev: 0\n",
      "     nit: 1000\n",
      "    njev: 0\n",
      "  status: 0\n",
      " success: True\n",
      "       x: array([6.83638083e-05, 2.70462482e-05, 6.06013217e-05, ...,\n",
      "       1.38144044e-05, 2.33028450e-04, 3.20255267e-04])\n"
     ]
    }
   ],
   "source": [
    "print(res)"
   ]
  },
  {
   "cell_type": "code",
   "execution_count": 16,
   "metadata": {},
   "outputs": [],
   "source": [
    "solution=res.x"
   ]
  },
  {
   "cell_type": "code",
   "execution_count": 17,
   "metadata": {},
   "outputs": [
    {
     "name": "stdout",
     "output_type": "stream",
     "text": [
      "Energy                                666.519828\n",
      "Protein                                48.726152\n",
      "Carbohydrate, by difference            71.448159\n",
      "Fiber, total dietary                   16.005785\n",
      "Sugars, total including NLEA            5.663570\n",
      "Total Fat                              20.284846\n",
      "Fatty acids, total saturated            5.133039\n",
      "Fatty acids, total polyunsaturated      6.448692\n",
      "Sodium, Na                              1.420729\n",
      "dtype: float64\n"
     ]
    }
   ],
   "source": [
    "output=pd.Series(A.dot(solution),index=inputs.index)\n",
    "print(output)"
   ]
  },
  {
   "cell_type": "markdown",
   "metadata": {},
   "source": [
    "Note: this solution looks pretty good, but it's a bit high in both carbs and sodium. Sugar content is high too, thought it's offset by a very nice fiber content. On the sugar side, they do appear to be natural sugars from vegetables, at least. We may want to revise our value function a bit, but this is not a bad initial result."
   ]
  },
  {
   "cell_type": "code",
   "execution_count": 19,
   "metadata": {},
   "outputs": [
    {
     "name": "stdout",
     "output_type": "stream",
     "text": [
      "description\n",
      "Beans, from dried, NS as to type, no added fat       1.382660\n",
      "Beans, from canned, NS as to type, fat added         1.128672\n",
      "Beans, from canned, NS as to type, no added fat      0.923379\n",
      "Beans, from fast food / restaurant, NS as to type    0.528421\n",
      "White beans, from dried, no added fat                0.881901\n",
      "                                                       ...   \n",
      "Yellow rice, cooked, no added fat                    2.959176\n",
      "Rice, wild, 100%, cooked, fat added                  1.355446\n",
      "Rice, white and wild, cooked, NS as to fat           2.434946\n",
      "Clams, baked or broiled, fat added                   0.198527\n",
      "Mussels, cooked, NS as to cooking method             0.351050\n",
      "Name: grams, Length: 514, dtype: float64\n"
     ]
    }
   ],
   "source": [
    "solution_ds=pd.Series(solution*100,index=final_ingredients_df.index,name=\"grams\") #multiply by 100 for grams\n",
    "solution_ds=solution_ds[solution_ds>0.1]\n",
    "solution_ds.to_csv('matrix_porridge_recipe_v3.csv')\n",
    "print(solution_ds)"
   ]
  },
  {
   "cell_type": "markdown",
   "metadata": {},
   "source": [
    "## Next Steps\n",
    "\n",
    "There are two related issues here. First, the global optimizer ran for 4.5 hours and still didn't finish. It found a pretty good solution (better than I could find using the local optimizer on this new set), but it's high in saturated fat and sodium. But the other thing to note here is that several of the above ingredients are compound ingredients that include repeating core ingredients. Clearly there's more manual filtering I need to do on the input data.\n",
    "\n",
    "So, next I'm going to spend an hour or two manually culling the input dataset. If we were talking a longer list of ingredients, I'd probably work on doing this a bit more programmatically, but in my experience, when working with smaller datasets (<5k records), it's usually worth having a human do this part."
   ]
  },
  {
   "cell_type": "markdown",
   "metadata": {},
   "source": [
    "# Add a Wordcloud"
   ]
  },
  {
   "cell_type": "code",
   "execution_count": 20,
   "metadata": {},
   "outputs": [],
   "source": [
    "import stylecloud"
   ]
  },
  {
   "cell_type": "code",
   "execution_count": 22,
   "metadata": {},
   "outputs": [],
   "source": [
    "stylecloud.gen_stylecloud(file_path='matrix_porridge_recipe_v3.csv',\n",
    "                          icon_name= \"fas fa-apple-alt\")"
   ]
  },
  {
   "cell_type": "markdown",
   "metadata": {},
   "source": [
    "<img src=\"stylecloud.png\">"
   ]
  },
  {
   "cell_type": "code",
   "execution_count": null,
   "metadata": {},
   "outputs": [],
   "source": []
  }
 ],
 "metadata": {
  "kernelspec": {
   "display_name": "jokia",
   "language": "python",
   "name": "jokia"
  },
  "language_info": {
   "codemirror_mode": {
    "name": "ipython",
    "version": 3
   },
   "file_extension": ".py",
   "mimetype": "text/x-python",
   "name": "python",
   "nbconvert_exporter": "python",
   "pygments_lexer": "ipython3",
   "version": "3.8.6"
  }
 },
 "nbformat": 4,
 "nbformat_minor": 4
}
